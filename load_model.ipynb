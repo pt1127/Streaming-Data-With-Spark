{
  "nbformat": 4,
  "nbformat_minor": 0,
  "metadata": {
    "colab": {
      "name": "load_model.ipynb",
      "provenance": []
    },
    "kernelspec": {
      "name": "python3",
      "display_name": "Python 3"
    },
    "language_info": {
      "name": "python"
    }
  },
  "cells": [
    {
      "cell_type": "code",
      "source": [
        "!git clone https://github.com/pt1127/Streaming-Data-With-Spark.git"
      ],
      "metadata": {
        "id": "TXAypaKyTPrw"
      },
      "execution_count": null,
      "outputs": []
    },
    {
      "cell_type": "code",
      "source": [
        "# Install PySpark and Spark NLP\n",
        "! pip install -q pyspark==3.1.2 spark-nlp"
      ],
      "metadata": {
        "id": "5PN8ccJycwJ3"
      },
      "execution_count": null,
      "outputs": []
    },
    {
      "cell_type": "code",
      "source": [
        "from pyspark.ml import PipelineModel"
      ],
      "metadata": {
        "id": "bR69URTcc422"
      },
      "execution_count": 11,
      "outputs": []
    },
    {
      "cell_type": "code",
      "source": [
        "best_model = PipelineModel.load('/content/Streaming-Data-With-Spark/best_model')"
      ],
      "metadata": {
        "id": "WCd-TLx1c5Qz"
      },
      "execution_count": null,
      "outputs": []
    },
    {
      "cell_type": "code",
      "source": [
        "example = spark.createDataFrame([['Tôi là một con người tốt bụng']]).toDF(\"clean_text\")\n",
        "result = best_model.transform(example).select('prediction')"
      ],
      "metadata": {
        "id": "18y7ROKxc6bj"
      },
      "execution_count": null,
      "outputs": []
    }
  ]
}