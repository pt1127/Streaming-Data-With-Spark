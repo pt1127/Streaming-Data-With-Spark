{
  "nbformat": 4,
  "nbformat_minor": 0,
  "metadata": {
    "colab": {
      "name": "load_model.ipynb",
      "provenance": []
    },
    "kernelspec": {
      "name": "python3",
      "display_name": "Python 3"
    },
    "language_info": {
      "name": "python"
    }
  },
  "cells": [
    {
      "cell_type": "code",
      "source": [
        "!git clone https://github.com/pt1127/Streaming-Data-With-Spark.git"
      ],
      "metadata": {
        "id": "TXAypaKyTPrw"
      },
      "execution_count": null,
      "outputs": []
    },
    {
      "cell_type": "code",
      "source": [
        "# Install PySpark and Spark NLP\n",
        "! pip install -q pyspark==3.1.2 spark-nlp"
      ],
      "metadata": {
        "id": "5PN8ccJycwJ3"
      },
      "execution_count": null,
      "outputs": []
    },
    {
      "cell_type": "code",
      "source": [
        "from pyspark.ml import PipelineModel\n",
        "from pyspark.sql import SparkSession\n",
        "from pyspark.sql import functions as f\n",
        "from pyspark.sql.functions import when"
      ],
      "metadata": {
        "id": "bR69URTcc422"
      },
      "execution_count": null,
      "outputs": []
    },
    {
      "cell_type": "code",
      "source": [
        "best_model = PipelineModel.load('/content/Streaming-Data-With-Spark/best_model')"
      ],
      "metadata": {
        "id": "WCd-TLx1c5Qz"
      },
      "execution_count": null,
      "outputs": []
    },
    {
      "cell_type": "code",
      "source": [
        "spark = (\n",
        "    SparkSession.builder.appName(\"SentimentAnalysis\")\n",
        "    .config(\"spark.executor.memory\", \"8g\")\n",
        "    .getOrCreate()\n",
        ")"
      ],
      "metadata": {
        "id": "sNaD6gLWD23H"
      },
      "execution_count": null,
      "outputs": []
    },
    {
      "cell_type": "code",
      "source": [
        "example = spark.createDataFrame([['Tôi là một con người tốt bụng']]).toDF(\"text\")"
      ],
      "metadata": {
        "id": "18y7ROKxc6bj"
      },
      "execution_count": null,
      "outputs": []
    },
    {
      "cell_type": "code",
      "source": [
        "user_regex = r\"(@\\w{1,15})\"\n",
        "hashtag_replace_regex = \"#(\\w{1,})\"\n",
        "url_regex = r\"((https?|ftp|file):\\/{2,3})+([-\\w+&@#/%=~|$?!:,.]*)|(www.)+([-\\w+&@#/%=~|$?!:,.]*)\"\n",
        "email_regex = r\"[\\w.-]+@[\\w.-]+\\.[a-zA-Z]{1,}\"\n",
        "i_regex = r\"i \"\n",
        "\n",
        "def cleaning_process(data):\n",
        "            # Loại bỏ @Mention khỏi text\n",
        "    data=(data.withColumn(\"text\",f.regexp_replace(f.col(\"text\"), user_regex, \"\")) \n",
        "            # Loại bỏ #Hashtag khỏi text\n",
        "             .withColumn(\"text\",f.regexp_replace(f.col(\"text\"), hashtag_replace_regex, \"$1\"))\n",
        "            # Loại bỏ URL khỏi text\n",
        "            .withColumn(\"text\",f.regexp_replace(f.col(\"text\"), url_regex, \"\")) \n",
        "            # Loại bỏ Email khỏi text\n",
        "            .withColumn(\"text\",f.regexp_replace(f.col(\"text\"), email_regex, \"\"))\n",
        "             # Chuẩn hoá viết thường\n",
        "            .withColumn(\"text\",f.lower(f.col(\"text\")))\n",
        "            # Loại bỏ số cũng như các ký tự khỏi đoạn text\n",
        "            .withColumn(\"text\",f.regexp_replace(f.col(\"text\"), '[^a-záàảãạăắằẳẵặâấầẩẫậéèẻẽẹêếềểễệóòỏõọôốồổỗộơớờởỡợíìỉĩịúùủũụưứừửữựýỳỷỹỵđ]', \" \"))\n",
        "            # Loại bỏ các khoảng trắng thừa trong câu\n",
        "            .withColumn(\"text\",f.regexp_replace(f.col(\"text\"), \" +\", \" \"))\n",
        "            # Loại bỏ các khoảng trắng đầu và cuối câu\n",
        "            .withColumn(\"text\",f.trim(f.col(\"text\")))\n",
        "            # Giữ lại các dòng mà đoạn text có nội dung \n",
        "            .filter(f.col(\"text\") != \"\"))\n",
        "    \n",
        "    return data"
      ],
      "metadata": {
        "id": "GwmTURljBza8"
      },
      "execution_count": null,
      "outputs": []
    },
    {
      "cell_type": "code",
      "source": [
        "example = cleaning_process(example).withColumnRenamed('text', 'clean_text')"
      ],
      "metadata": {
        "id": "xRoBqruGB01z"
      },
      "execution_count": null,
      "outputs": []
    },
    {
      "cell_type": "code",
      "source": [
        "result = best_model.transform(example).select('prediction')\\\n",
        "                  .withColumn('prediction_text', when(f.col('prediction') == 0, 'CLEAN').when(f.col('prediction') == 1, 'OFFENSIVE').otherwise('HATE'))\\\n",
        "                  .select('prediction_text')"
      ],
      "metadata": {
        "id": "n_r3h_vzBs2c"
      },
      "execution_count": null,
      "outputs": []
    },
    {
      "cell_type": "code",
      "source": [
        "result.collect()[0][0]"
      ],
      "metadata": {
        "id": "1Uth3EDUFg6m"
      },
      "execution_count": null,
      "outputs": []
    }
  ]
}